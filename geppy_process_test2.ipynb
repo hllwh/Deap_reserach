{
 "cells": [
  {
   "cell_type": "markdown",
   "id": "fec8dadf",
   "metadata": {},
   "source": [
    "# 测试新添加的singlefunction,couplefunction,signleNfunction效果"
   ]
  },
  {
   "cell_type": "code",
   "execution_count": 18,
   "id": "0960fa28",
   "metadata": {
    "ExecuteTime": {
     "end_time": "2022-06-20T11:38:06.630800Z",
     "start_time": "2022-06-20T11:38:06.625726Z"
    }
   },
   "outputs": [],
   "source": [
    "import pandas as pd\n",
    "import geppy as gep\n",
    "from deap import creator, base, tools, gp\n",
    "import numpy as np\n",
    "import random\n",
    "import operator\n",
    "from time import time\n",
    "import math\n",
    "import os\n",
    "from inspect import getmembers, isfunction\n",
    "from ALLfunctions import singlefunction,couplefunction,singleNfunction\n",
    "import globalVars\n",
    "import warnings\n",
    "warnings.filterwarnings(\"ignore\")"
   ]
  },
  {
   "cell_type": "markdown",
   "id": "61ec1c2b",
   "metadata": {},
   "source": [
    "# 读取数据"
   ]
  },
  {
   "cell_type": "code",
   "execution_count": 19,
   "id": "5f2c6742",
   "metadata": {
    "ExecuteTime": {
     "end_time": "2022-06-20T11:38:09.330555Z",
     "start_time": "2022-06-20T11:38:07.990682Z"
    }
   },
   "outputs": [
    {
     "name": "stdout",
     "output_type": "stream",
     "text": [
      "corr with 1 future days: -0.005238679980953211\n",
      "corr with 10 future days: -0.006580414215309076\n",
      "corr with 20 future days: -0.00588575807266195\n",
      "corr with 100 future days: -0.006596367387381373\n",
      "corr with 200 future days: -0.026166185746248526\n",
      "corr with 400 future days: -0.052317589989801905\n",
      "corr with 600 future days: -0.05611432641911119\n"
     ]
    }
   ],
   "source": [
    "#########数据读取#####################\n",
    "data = pd.read_hdf('./data/T0-1/1325.h5')\n",
    "data['mid_price'] = (data['ask'] + data['bid'])/2\n",
    "for i in [1,10,20,100,200,400,600]:\n",
    "    data[f'mid_price_move_{i}'] = data['mid_price'].pct_change(i).shift(-i)\n",
    "    print(f'corr with {i} future days:',data[['average_bid_price',f'mid_price_move_{i}']].corr().iloc[0][1])"
   ]
  },
  {
   "cell_type": "code",
   "execution_count": 20,
   "id": "5c397293",
   "metadata": {
    "ExecuteTime": {
     "end_time": "2022-06-20T11:38:09.794462Z",
     "start_time": "2022-06-20T11:38:09.781513Z"
    }
   },
   "outputs": [],
   "source": [
    "train_data = data.iloc[0:int(0.8*len(data))]\n",
    "test_data = data.iloc[int(0.8*len(data)):]"
   ]
  },
  {
   "cell_type": "code",
   "execution_count": 21,
   "id": "bb304e0e",
   "metadata": {
    "ExecuteTime": {
     "end_time": "2022-06-20T11:38:10.835735Z",
     "start_time": "2022-06-20T11:38:10.804228Z"
    }
   },
   "outputs": [],
   "source": [
    "X = train_data[['open', 'high', 'low', 'last_price', 'volume', 'turnover',\n",
    "       'trade_count', 'previous_close', 'high_limit', 'low_limit',\n",
    "       'total_volume', 'total_value', 'average_ask_price', 'average_bid_price']]\n",
    "Y = train_data['mid_price_move_1']"
   ]
  },
  {
   "cell_type": "markdown",
   "id": "9ed4a8fb",
   "metadata": {},
   "source": [
    "# 因子标准化"
   ]
  },
  {
   "cell_type": "code",
   "execution_count": 23,
   "id": "acbc7bce",
   "metadata": {
    "ExecuteTime": {
     "end_time": "2022-06-20T11:38:18.273927Z",
     "start_time": "2022-06-20T11:38:18.190956Z"
    }
   },
   "outputs": [
    {
     "data": {
      "text/html": [
       "<div>\n",
       "<style scoped>\n",
       "    .dataframe tbody tr th:only-of-type {\n",
       "        vertical-align: middle;\n",
       "    }\n",
       "\n",
       "    .dataframe tbody tr th {\n",
       "        vertical-align: top;\n",
       "    }\n",
       "\n",
       "    .dataframe thead th {\n",
       "        text-align: right;\n",
       "    }\n",
       "</style>\n",
       "<table border=\"1\" class=\"dataframe\">\n",
       "  <thead>\n",
       "    <tr style=\"text-align: right;\">\n",
       "      <th></th>\n",
       "      <th>open</th>\n",
       "      <th>high</th>\n",
       "      <th>low</th>\n",
       "      <th>last_price</th>\n",
       "      <th>volume</th>\n",
       "      <th>turnover</th>\n",
       "      <th>trade_count</th>\n",
       "      <th>previous_close</th>\n",
       "      <th>high_limit</th>\n",
       "      <th>low_limit</th>\n",
       "      <th>total_volume</th>\n",
       "      <th>total_value</th>\n",
       "      <th>average_ask_price</th>\n",
       "      <th>average_bid_price</th>\n",
       "    </tr>\n",
       "    <tr>\n",
       "      <th>Stock_TW/Z/T0/1325</th>\n",
       "      <th></th>\n",
       "      <th></th>\n",
       "      <th></th>\n",
       "      <th></th>\n",
       "      <th></th>\n",
       "      <th></th>\n",
       "      <th></th>\n",
       "      <th></th>\n",
       "      <th></th>\n",
       "      <th></th>\n",
       "      <th></th>\n",
       "      <th></th>\n",
       "      <th></th>\n",
       "      <th></th>\n",
       "    </tr>\n",
       "  </thead>\n",
       "  <tbody>\n",
       "    <tr>\n",
       "      <th>2021-12-27 09:00:03</th>\n",
       "      <td>0.041409</td>\n",
       "      <td>0.041107</td>\n",
       "      <td>0.041677</td>\n",
       "      <td>0.041367</td>\n",
       "      <td>3.653154</td>\n",
       "      <td>3.069759</td>\n",
       "      <td>0.903003</td>\n",
       "      <td>0.114691</td>\n",
       "      <td>0.114023</td>\n",
       "      <td>0.116580</td>\n",
       "      <td>-0.607453</td>\n",
       "      <td>0.435548</td>\n",
       "      <td>0.082032</td>\n",
       "      <td>0.185297</td>\n",
       "    </tr>\n",
       "    <tr>\n",
       "      <th>2021-12-27 09:00:06</th>\n",
       "      <td>0.041409</td>\n",
       "      <td>0.041107</td>\n",
       "      <td>0.041677</td>\n",
       "      <td>0.041367</td>\n",
       "      <td>-0.096313</td>\n",
       "      <td>-0.089670</td>\n",
       "      <td>-0.223685</td>\n",
       "      <td>0.114691</td>\n",
       "      <td>0.114023</td>\n",
       "      <td>0.116580</td>\n",
       "      <td>-0.607453</td>\n",
       "      <td>-0.077789</td>\n",
       "      <td>0.079906</td>\n",
       "      <td>0.188755</td>\n",
       "    </tr>\n",
       "    <tr>\n",
       "      <th>2021-12-27 09:00:09</th>\n",
       "      <td>0.080803</td>\n",
       "      <td>0.080490</td>\n",
       "      <td>0.081085</td>\n",
       "      <td>0.080763</td>\n",
       "      <td>0.229728</td>\n",
       "      <td>0.186281</td>\n",
       "      <td>2.029691</td>\n",
       "      <td>0.114691</td>\n",
       "      <td>0.114023</td>\n",
       "      <td>0.116580</td>\n",
       "      <td>-0.606839</td>\n",
       "      <td>-0.077789</td>\n",
       "      <td>0.090535</td>\n",
       "      <td>0.196910</td>\n",
       "    </tr>\n",
       "    <tr>\n",
       "      <th>2021-12-27 09:00:12</th>\n",
       "      <td>0.090652</td>\n",
       "      <td>0.090336</td>\n",
       "      <td>0.090937</td>\n",
       "      <td>0.090612</td>\n",
       "      <td>0.066707</td>\n",
       "      <td>0.048458</td>\n",
       "      <td>0.903003</td>\n",
       "      <td>0.114691</td>\n",
       "      <td>0.114023</td>\n",
       "      <td>0.116580</td>\n",
       "      <td>-0.606533</td>\n",
       "      <td>-0.077789</td>\n",
       "      <td>0.101430</td>\n",
       "      <td>0.203524</td>\n",
       "    </tr>\n",
       "    <tr>\n",
       "      <th>2021-12-27 09:00:15</th>\n",
       "      <td>0.100500</td>\n",
       "      <td>0.100182</td>\n",
       "      <td>0.100789</td>\n",
       "      <td>0.100460</td>\n",
       "      <td>0.229728</td>\n",
       "      <td>0.186891</td>\n",
       "      <td>0.903003</td>\n",
       "      <td>0.114691</td>\n",
       "      <td>0.114023</td>\n",
       "      <td>0.116580</td>\n",
       "      <td>-0.605919</td>\n",
       "      <td>-0.077789</td>\n",
       "      <td>0.108605</td>\n",
       "      <td>0.215872</td>\n",
       "    </tr>\n",
       "    <tr>\n",
       "      <th>...</th>\n",
       "      <td>...</td>\n",
       "      <td>...</td>\n",
       "      <td>...</td>\n",
       "      <td>...</td>\n",
       "      <td>...</td>\n",
       "      <td>...</td>\n",
       "      <td>...</td>\n",
       "      <td>...</td>\n",
       "      <td>...</td>\n",
       "      <td>...</td>\n",
       "      <td>...</td>\n",
       "      <td>...</td>\n",
       "      <td>...</td>\n",
       "      <td>...</td>\n",
       "    </tr>\n",
       "    <tr>\n",
       "      <th>2022-05-04 13:29:48</th>\n",
       "      <td>-1.642707</td>\n",
       "      <td>-1.642514</td>\n",
       "      <td>-1.642996</td>\n",
       "      <td>-1.642787</td>\n",
       "      <td>-0.096313</td>\n",
       "      <td>-0.089670</td>\n",
       "      <td>-0.223685</td>\n",
       "      <td>-0.814919</td>\n",
       "      <td>-0.815199</td>\n",
       "      <td>-0.814047</td>\n",
       "      <td>-0.360225</td>\n",
       "      <td>0.971303</td>\n",
       "      <td>-1.579842</td>\n",
       "      <td>-0.950564</td>\n",
       "    </tr>\n",
       "    <tr>\n",
       "      <th>2022-05-04 13:29:51</th>\n",
       "      <td>-1.642707</td>\n",
       "      <td>-1.642514</td>\n",
       "      <td>-1.642996</td>\n",
       "      <td>-1.642787</td>\n",
       "      <td>-0.096313</td>\n",
       "      <td>-0.089670</td>\n",
       "      <td>-0.223685</td>\n",
       "      <td>-0.814919</td>\n",
       "      <td>-0.815199</td>\n",
       "      <td>-0.814047</td>\n",
       "      <td>-0.360225</td>\n",
       "      <td>0.971303</td>\n",
       "      <td>-1.579842</td>\n",
       "      <td>-0.950564</td>\n",
       "    </tr>\n",
       "    <tr>\n",
       "      <th>2022-05-04 13:29:54</th>\n",
       "      <td>-1.642707</td>\n",
       "      <td>-1.642514</td>\n",
       "      <td>-1.642996</td>\n",
       "      <td>-1.642787</td>\n",
       "      <td>-0.096313</td>\n",
       "      <td>-0.089670</td>\n",
       "      <td>-0.223685</td>\n",
       "      <td>-0.814919</td>\n",
       "      <td>-0.815199</td>\n",
       "      <td>-0.814047</td>\n",
       "      <td>-0.360225</td>\n",
       "      <td>0.971303</td>\n",
       "      <td>-1.579842</td>\n",
       "      <td>-0.950604</td>\n",
       "    </tr>\n",
       "    <tr>\n",
       "      <th>2022-05-04 13:29:57</th>\n",
       "      <td>-1.632858</td>\n",
       "      <td>-1.632669</td>\n",
       "      <td>-1.633144</td>\n",
       "      <td>-1.632938</td>\n",
       "      <td>-0.096313</td>\n",
       "      <td>-0.089670</td>\n",
       "      <td>-0.223685</td>\n",
       "      <td>-0.814919</td>\n",
       "      <td>-0.815199</td>\n",
       "      <td>-0.814047</td>\n",
       "      <td>-0.360225</td>\n",
       "      <td>1.027076</td>\n",
       "      <td>-1.561666</td>\n",
       "      <td>-0.947125</td>\n",
       "    </tr>\n",
       "    <tr>\n",
       "      <th>2022-05-04 13:30:00</th>\n",
       "      <td>-1.632858</td>\n",
       "      <td>-1.632669</td>\n",
       "      <td>-1.633144</td>\n",
       "      <td>-1.632938</td>\n",
       "      <td>9.847927</td>\n",
       "      <td>6.710427</td>\n",
       "      <td>0.903003</td>\n",
       "      <td>-0.814919</td>\n",
       "      <td>-0.815199</td>\n",
       "      <td>-0.814047</td>\n",
       "      <td>-0.341514</td>\n",
       "      <td>1.027076</td>\n",
       "      <td>-1.562503</td>\n",
       "      <td>-0.946575</td>\n",
       "    </tr>\n",
       "  </tbody>\n",
       "</table>\n",
       "<p>410400 rows × 14 columns</p>\n",
       "</div>"
      ],
      "text/plain": [
       "                         open      high       low  last_price    volume  \\\n",
       "Stock_TW/Z/T0/1325                                                        \n",
       "2021-12-27 09:00:03  0.041409  0.041107  0.041677    0.041367  3.653154   \n",
       "2021-12-27 09:00:06  0.041409  0.041107  0.041677    0.041367 -0.096313   \n",
       "2021-12-27 09:00:09  0.080803  0.080490  0.081085    0.080763  0.229728   \n",
       "2021-12-27 09:00:12  0.090652  0.090336  0.090937    0.090612  0.066707   \n",
       "2021-12-27 09:00:15  0.100500  0.100182  0.100789    0.100460  0.229728   \n",
       "...                       ...       ...       ...         ...       ...   \n",
       "2022-05-04 13:29:48 -1.642707 -1.642514 -1.642996   -1.642787 -0.096313   \n",
       "2022-05-04 13:29:51 -1.642707 -1.642514 -1.642996   -1.642787 -0.096313   \n",
       "2022-05-04 13:29:54 -1.642707 -1.642514 -1.642996   -1.642787 -0.096313   \n",
       "2022-05-04 13:29:57 -1.632858 -1.632669 -1.633144   -1.632938 -0.096313   \n",
       "2022-05-04 13:30:00 -1.632858 -1.632669 -1.633144   -1.632938  9.847927   \n",
       "\n",
       "                     turnover  trade_count  previous_close  high_limit  \\\n",
       "Stock_TW/Z/T0/1325                                                       \n",
       "2021-12-27 09:00:03  3.069759     0.903003        0.114691    0.114023   \n",
       "2021-12-27 09:00:06 -0.089670    -0.223685        0.114691    0.114023   \n",
       "2021-12-27 09:00:09  0.186281     2.029691        0.114691    0.114023   \n",
       "2021-12-27 09:00:12  0.048458     0.903003        0.114691    0.114023   \n",
       "2021-12-27 09:00:15  0.186891     0.903003        0.114691    0.114023   \n",
       "...                       ...          ...             ...         ...   \n",
       "2022-05-04 13:29:48 -0.089670    -0.223685       -0.814919   -0.815199   \n",
       "2022-05-04 13:29:51 -0.089670    -0.223685       -0.814919   -0.815199   \n",
       "2022-05-04 13:29:54 -0.089670    -0.223685       -0.814919   -0.815199   \n",
       "2022-05-04 13:29:57 -0.089670    -0.223685       -0.814919   -0.815199   \n",
       "2022-05-04 13:30:00  6.710427     0.903003       -0.814919   -0.815199   \n",
       "\n",
       "                     low_limit  total_volume  total_value  average_ask_price  \\\n",
       "Stock_TW/Z/T0/1325                                                             \n",
       "2021-12-27 09:00:03   0.116580     -0.607453     0.435548           0.082032   \n",
       "2021-12-27 09:00:06   0.116580     -0.607453    -0.077789           0.079906   \n",
       "2021-12-27 09:00:09   0.116580     -0.606839    -0.077789           0.090535   \n",
       "2021-12-27 09:00:12   0.116580     -0.606533    -0.077789           0.101430   \n",
       "2021-12-27 09:00:15   0.116580     -0.605919    -0.077789           0.108605   \n",
       "...                        ...           ...          ...                ...   \n",
       "2022-05-04 13:29:48  -0.814047     -0.360225     0.971303          -1.579842   \n",
       "2022-05-04 13:29:51  -0.814047     -0.360225     0.971303          -1.579842   \n",
       "2022-05-04 13:29:54  -0.814047     -0.360225     0.971303          -1.579842   \n",
       "2022-05-04 13:29:57  -0.814047     -0.360225     1.027076          -1.561666   \n",
       "2022-05-04 13:30:00  -0.814047     -0.341514     1.027076          -1.562503   \n",
       "\n",
       "                     average_bid_price  \n",
       "Stock_TW/Z/T0/1325                      \n",
       "2021-12-27 09:00:03           0.185297  \n",
       "2021-12-27 09:00:06           0.188755  \n",
       "2021-12-27 09:00:09           0.196910  \n",
       "2021-12-27 09:00:12           0.203524  \n",
       "2021-12-27 09:00:15           0.215872  \n",
       "...                                ...  \n",
       "2022-05-04 13:29:48          -0.950564  \n",
       "2022-05-04 13:29:51          -0.950564  \n",
       "2022-05-04 13:29:54          -0.950604  \n",
       "2022-05-04 13:29:57          -0.947125  \n",
       "2022-05-04 13:30:00          -0.946575  \n",
       "\n",
       "[410400 rows x 14 columns]"
      ]
     },
     "execution_count": 23,
     "metadata": {},
     "output_type": "execute_result"
    }
   ],
   "source": [
    "X_std = X.apply(lambda x: (x - np.mean(x)) / np.std(x))\n",
    "X_std"
   ]
  },
  {
   "cell_type": "markdown",
   "id": "4ca13f7b",
   "metadata": {},
   "source": [
    "# 初始化pset，添加函数"
   ]
  },
  {
   "cell_type": "code",
   "execution_count": 24,
   "id": "3e797f37",
   "metadata": {
    "ExecuteTime": {
     "end_time": "2022-06-20T11:38:21.996869Z",
     "start_time": "2022-06-20T11:38:21.985254Z"
    }
   },
   "outputs": [
    {
     "data": {
      "text/plain": [
       "[<class 'geppy.core.symbol.Function'>(name=abs_, arity=1),\n",
       " <class 'geppy.core.symbol.Function'>(name=log, arity=1),\n",
       " <class 'geppy.core.symbol.Function'>(name=s_log, arity=1),\n",
       " <class 'geppy.core.symbol.Function'>(name=s_sqrt, arity=1),\n",
       " <class 'geppy.core.symbol.Function'>(name=sigmoid, arity=1),\n",
       " <class 'geppy.core.symbol.Function'>(name=sign, arity=1),\n",
       " <class 'geppy.core.symbol.Function'>(name=delay, arity=1),\n",
       " <class 'geppy.core.symbol.Function'>(name=delta, arity=1),\n",
       " <class 'geppy.core.symbol.Function'>(name=ts_max_bn, arity=1),\n",
       " <class 'geppy.core.symbol.Function'>(name=ts_mean_bn, arity=1),\n",
       " <class 'geppy.core.symbol.Function'>(name=ts_min_bn, arity=1),\n",
       " <class 'geppy.core.symbol.Function'>(name=ts_std_bn, arity=1),\n",
       " <class 'geppy.core.symbol.Function'>(name=ts_sum, arity=1),\n",
       " <class 'geppy.core.symbol.Function'>(name=add, arity=2),\n",
       " <class 'geppy.core.symbol.Function'>(name=sub, arity=2),\n",
       " <class 'geppy.core.symbol.Function'>(name=mul, arity=2)]"
      ]
     },
     "execution_count": 24,
     "metadata": {},
     "output_type": "execute_result"
    }
   ],
   "source": [
    "pset = gep.PrimitiveSet('Main', input_names=['open', 'high', 'low', 'last_price', 'volume', 'turnover',\n",
    "                                             'trade_count', 'previous_close', 'high_limit', 'low_limit',\n",
    "                                             'total_volume', 'total_value', 'average_ask_price', 'average_bid_price'])\n",
    "for fname, func in [o for o in getmembers(singlefunction) if isfunction(o[1])]:\n",
    "    pset.add_function(func,1)\n",
    "# for fname, func in [o for o in getmembers(couplefunction) if isfunction(o[1])]:\n",
    "#     pset.add_function(func,2)\n",
    "for fname, func in [o for o in getmembers(singleNfunction) if isfunction(o[1])]:\n",
    "    pset.add_function(func,1)\n",
    "def div(x, y):\n",
    "    result = (x / y).replace([np.inf, -np.inf], np.NaN)\n",
    "    result[(x == 0) | (y == 0)] = 0\n",
    "    return result\n",
    "pset.add_function(operator.add, 2)\n",
    "pset.add_function(operator.sub, 2)\n",
    "pset.add_function(operator.mul, 2)\n",
    "#pset.add_function(div, 2)\n",
    "pset.functions"
   ]
  },
  {
   "cell_type": "markdown",
   "id": "273e5cec",
   "metadata": {},
   "source": [
    "# 创建目标函数和个体样本类"
   ]
  },
  {
   "cell_type": "code",
   "execution_count": 41,
   "id": "c9318fdd",
   "metadata": {
    "ExecuteTime": {
     "end_time": "2022-06-20T12:05:57.497857Z",
     "start_time": "2022-06-20T12:05:57.493466Z"
    }
   },
   "outputs": [],
   "source": [
    "# creator.create(\"FitnessMin\", base.Fitness, weights=(-1,))  # to minimize the objective (fitness)\n",
    "# creator.create(\"Individual\", gep.Chromosome, fitness=creator.FitnessMin)\n",
    "\n",
    "creator.create(\"FitnessMax\", base.Fitness, weights=(1,))  # to maximize the objective (fitness)\n",
    "creator.create(\"Individual\", gep.Chromosome, fitness=creator.FitnessMax)\n",
    "\n",
    "h = 4 # head length\n",
    "n_genes = 2   # number of genes in a chromosome\n",
    "toolbox = gep.Toolbox()\n",
    "toolbox.register('gene_gen', gep.Gene, pset=pset, head_length=h)\n",
    "toolbox.register('individual', creator.Individual, gene_gen=toolbox.gene_gen, n_genes=n_genes, linker=operator.add)\n",
    "toolbox.register(\"population\", tools.initRepeat, list, toolbox.individual)\n",
    "\n",
    "# compile utility: which translates an individual into an executable function (Lambda)\n",
    "toolbox.register('compile', gep.compile_, pset=pset)"
   ]
  },
  {
   "cell_type": "markdown",
   "id": "85219cdd",
   "metadata": {},
   "source": [
    "# 定义适应度评价指标"
   ]
  },
  {
   "cell_type": "code",
   "execution_count": 42,
   "id": "fe074060",
   "metadata": {
    "ExecuteTime": {
     "end_time": "2022-06-20T12:05:59.809044Z",
     "start_time": "2022-06-20T12:05:59.785471Z"
    }
   },
   "outputs": [],
   "source": [
    "def evaluate(individual):\n",
    "    \"\"\"Evalute the fitness of an individual: MAE (mean absolute error)\"\"\"\n",
    "    func = toolbox.compile(individual)\n",
    "#     Yp = list(map(func, X['high'],X['low'],X['open'],X['last_price'],X['volume'],X['turnover'],X['trade_count'],X['previous_close'],\n",
    "#                  X['high_limit'],X['low_limit'],X['total_volume'],X['total_value'],X['average_ask_price'],X['average_bid_price']))\n",
    "#     Yp = list(func(pd.DataFrame(X_std['high']),pd.DataFrame(X_std['low']),pd.DataFrame(X_std['open']),\n",
    "#                    pd.DataFrame(X_std['last_price']),pd.DataFrame(X_std['volume']),pd.DataFrame(X_std['turnover']),\n",
    "#                    pd.DataFrame(X_std['trade_count']),pd.DataFrame(X_std['previous_close']),pd.DataFrame(X_std['high_limit']),\n",
    "#                    pd.DataFrame(X_std['low_limit']),pd.DataFrame(X_std['total_volume']),pd.DataFrame(X_std['total_value']),\n",
    "#                    pd.DataFrame(X_std['average_ask_price']),pd.DataFrame(X_std['average_bid_price'])))\n",
    "    Yp = list(func(X_std['high'], X_std['low'], X_std['open'], X_std['last_price'], X_std['volume'], X_std['turnover'],\n",
    "                   X_std['trade_count'],X_std['previous_close'],X_std['high_limit'], X_std['low_limit'], X_std['total_volume'],\n",
    "                   X_std['total_value'], X_std['average_ask_price'],X_std['average_bid_price']))\n",
    "    #ic = pd.DataFrame(Y.values)[0].corr(pd.DataFrame(Yp)[0])\n",
    "    ic_mat = pd.DataFrame(Yp)\n",
    "    ic_mat['Y'] = Y.values\n",
    "    ic_mat.columns = ['Yp', 'Y']\n",
    "    ic = ic_mat[['Yp','Y']].corr().iloc[0][1]\n",
    "    #ic = pd.DataFrame(Y.values)[0]\n",
    "    return abs(ic),\n",
    "\n",
    "toolbox.register('evaluate', evaluate)"
   ]
  },
  {
   "cell_type": "markdown",
   "id": "ae43aa33",
   "metadata": {},
   "source": [
    "# 添加基因变异函数"
   ]
  },
  {
   "cell_type": "code",
   "execution_count": 43,
   "id": "645e3d87",
   "metadata": {
    "ExecuteTime": {
     "end_time": "2022-06-20T12:06:01.902007Z",
     "start_time": "2022-06-20T12:06:01.884919Z"
    }
   },
   "outputs": [],
   "source": [
    "toolbox.register('select', tools.selTournament, tournsize=3)\n",
    "# 1. general operators\n",
    "toolbox.register('mut_uniform', gep.mutate_uniform, pset=pset, ind_pb=0.05, pb=1)\n",
    "toolbox.register('mut_invert', gep.invert, pb=0.1)\n",
    "toolbox.register('mut_is_transpose', gep.is_transpose, pb=0.1)\n",
    "toolbox.register('mut_ris_transpose', gep.ris_transpose, pb=0.1)\n",
    "toolbox.register('mut_gene_transpose', gep.gene_transpose, pb=0.1)\n",
    "toolbox.register('cx_1p', gep.crossover_one_point, pb=0.4)\n",
    "toolbox.register('cx_2p', gep.crossover_two_point, pb=0.2)\n",
    "toolbox.register('cx_gene', gep.crossover_gene, pb=0.1)\n",
    "toolbox.register('mut_ephemeral', gep.mutate_uniform_ephemeral, ind_pb='1p')  # 1p: expected one point mutation in an individual\n",
    "toolbox.pbs['mut_ephemeral'] = 1 "
   ]
  },
  {
   "cell_type": "markdown",
   "id": "098c0409",
   "metadata": {},
   "source": [
    "# 添加统计函数窗口"
   ]
  },
  {
   "cell_type": "code",
   "execution_count": 44,
   "id": "6485420f",
   "metadata": {
    "ExecuteTime": {
     "end_time": "2022-06-20T12:06:03.852762Z",
     "start_time": "2022-06-20T12:06:03.849308Z"
    }
   },
   "outputs": [],
   "source": [
    "stats = tools.Statistics(key=lambda ind: ind.fitness.values[0])\n",
    "stats.register(\"avg\", np.mean)\n",
    "stats.register(\"std\", np.std)\n",
    "stats.register(\"min\", np.min)\n",
    "stats.register(\"max\", np.max)"
   ]
  },
  {
   "cell_type": "markdown",
   "id": "3f0bb027",
   "metadata": {},
   "source": [
    "# 开启迭代算法"
   ]
  },
  {
   "cell_type": "code",
   "execution_count": 45,
   "id": "b79d60b0",
   "metadata": {
    "ExecuteTime": {
     "end_time": "2022-06-20T12:10:23.095382Z",
     "start_time": "2022-06-20T12:06:11.242915Z"
    }
   },
   "outputs": [
    {
     "name": "stdout",
     "output_type": "stream",
     "text": [
      "gen\tnevals\tavg      \tstd      \tmin        \tmax      \n",
      "0  \t100   \t0.0133656\t0.0117591\t0.000472081\t0.0452657\n",
      "1  \t99    \t0.0186812\t0.0119518\t0.000480977\t0.0452657\n",
      "2  \t99    \t0.02549  \t0.0134196\t0.001759   \t0.0453086\n",
      "3  \t99    \t0.0303669\t0.0137143\t0.00082004 \t0.0471513\n",
      "4  \t99    \t0.0341442\t0.0131525\t6.67903e-05\t0.0509374\n",
      "5  \t99    \t0.0393845\t0.0124973\t0.00150675 \t0.0693562\n",
      "6  \t99    \t0.0426036\t0.0111438\t0.0059763  \t0.0694966\n",
      "7  \t99    \t0.0436944\t0.013391 \t0.00361501 \t0.0714938\n",
      "8  \t99    \t0.0435662\t0.0174735\t0.000985718\t0.0730856\n",
      "9  \t99    \t0.0450786\t0.0184103\t0.00596586 \t0.0731261\n",
      "10 \t99    \t0.047815 \t0.0200989\t0.00245309 \t0.0826883\n",
      "11 \t99    \t0.0486783\t0.0221787\t0.000285442\t0.0826883\n",
      "12 \t99    \t0.0509679\t0.0233721\t0.00290821 \t0.0826883\n",
      "13 \t99    \t0.0519863\t0.0242093\t0.00201295 \t0.0826883\n",
      "14 \t99    \t0.0518444\t0.0246337\t0.00128549 \t0.0826883\n",
      "15 \t99    \t0.055926 \t0.0248325\t0.000121513\t0.0826883\n",
      "16 \t99    \t0.0561431\t0.0256007\t0.000310921\t0.0826883\n",
      "17 \t99    \t0.0601869\t0.0231763\t0.000441883\t0.0826883\n",
      "18 \t99    \t0.0616447\t0.0233539\t0.000132809\t0.0826883\n",
      "19 \t99    \t0.0577674\t0.0232052\t0.000979741\t0.0826883\n",
      "20 \t99    \t0.0594858\t0.0244371\t0.000335136\t0.0892808\n",
      "21 \t99    \t0.0567915\t0.0271089\t0.000950087\t0.0924055\n",
      "22 \t99    \t0.0602963\t0.0248008\t0.00143552 \t0.0944313\n",
      "23 \t99    \t0.059173 \t0.0265661\t0.0014903  \t0.104201 \n",
      "24 \t99    \t0.0573752\t0.0288915\t0.000705396\t0.104201 \n",
      "25 \t99    \t0.0567672\t0.0276781\t0.00132986 \t0.104201 \n",
      "26 \t99    \t0.0572934\t0.0268857\t0.000244878\t0.104201 \n",
      "27 \t99    \t0.0552613\t0.0291572\t0.000117575\t0.104201 \n",
      "28 \t99    \t0.0571644\t0.0292706\t0.000235188\t0.104201 \n",
      "29 \t99    \t0.0598152\t0.0283526\t0.0012602  \t0.112338 \n",
      "30 \t99    \t0.052984 \t0.0331964\t0.00113427 \t0.112338 \n"
     ]
    }
   ],
   "source": [
    "# size of population and number of generations\n",
    "n_pop = 100\n",
    "n_gen = 30\n",
    "\n",
    "pop_std = toolbox.population(n=n_pop)\n",
    "hof_std = tools.HallOfFame(10)   # only record the best three individuals ever found in all generations\n",
    "# start evolution\n",
    "\n",
    "pop_std, log_std = gep.gep_simple(pop_std, toolbox, n_generations=n_gen, n_elites=1,\n",
    "                          stats=stats, hall_of_fame=hof_std, verbose=True)"
   ]
  },
  {
   "cell_type": "markdown",
   "id": "436e163a",
   "metadata": {},
   "source": [
    "# 训练集和测试集X&Y划分"
   ]
  },
  {
   "cell_type": "code",
   "execution_count": 46,
   "id": "f4463459",
   "metadata": {
    "ExecuteTime": {
     "end_time": "2022-06-20T13:00:43.048501Z",
     "start_time": "2022-06-20T13:00:42.925491Z"
    }
   },
   "outputs": [],
   "source": [
    "train_X = train_data[['open', 'high', 'low', 'last_price', 'volume', 'turnover',\n",
    "       'trade_count', 'previous_close', 'high_limit', 'low_limit',\n",
    "       'total_volume', 'total_value', 'average_ask_price', 'average_bid_price']]\n",
    "\n",
    "train_Y = train_data['mid_price_move_10']\n",
    "train_X_std = train_X.apply(lambda x: (x - np.mean(x)) / np.std(x))\n",
    "test_X = test_data[['open', 'high', 'low', 'last_price', 'volume', 'turnover',\n",
    "       'trade_count', 'previous_close', 'high_limit', 'low_limit',\n",
    "       'total_volume', 'total_value', 'average_ask_price', 'average_bid_price']]\n",
    "test_Y = test_data['mid_price_move_10']\n",
    "test_X_std = test_X.apply(lambda x: (x - np.mean(x)) / np.std(x))"
   ]
  },
  {
   "cell_type": "code",
   "execution_count": 47,
   "id": "59f5b8d4",
   "metadata": {
    "ExecuteTime": {
     "end_time": "2022-06-20T13:00:44.041871Z",
     "start_time": "2022-06-20T13:00:44.024483Z"
    }
   },
   "outputs": [],
   "source": [
    "from performance import *"
   ]
  },
  {
   "cell_type": "code",
   "execution_count": 52,
   "id": "7cadc2b0",
   "metadata": {
    "ExecuteTime": {
     "end_time": "2022-06-20T13:42:15.915704Z",
     "start_time": "2022-06-20T13:36:02.272916Z"
    }
   },
   "outputs": [
    {
     "name": "stderr",
     "output_type": "stream",
     "text": [
      "10it [06:13, 37.36s/it]\n"
     ]
    }
   ],
   "source": [
    "from tqdm import tqdm\n",
    "params = pd.DataFrame()\n",
    "dict = {}\n",
    "for i,stdbest in tqdm(enumerate(hof_std)):\n",
    "    func = toolbox.compile(stdbest)\n",
    "    train_data['factor'] = list(func(train_X_std['high'], train_X_std['low'], train_X_std['open'], train_X_std['last_price'], \n",
    "                                     train_X_std['volume'], train_X_std['turnover'],train_X_std['trade_count'],\n",
    "                                     train_X_std['previous_close'],train_X_std['high_limit'], train_X_std['low_limit'], \n",
    "                                     train_X_std['total_volume'],train_X_std['total_value'], train_X_std['average_ask_price'],\n",
    "                                     train_X_std['average_bid_price']))\n",
    "    test_data['factor'] = list(func(test_X_std['high'], test_X_std['low'], test_X_std['open'], test_X_std['last_price'], \n",
    "                                     test_X_std['volume'], test_X_std['turnover'],test_X_std['trade_count'],\n",
    "                                     test_X_std['previous_close'],test_X_std['high_limit'], test_X_std['low_limit'], \n",
    "                                     test_X_std['total_volume'],test_X_std['total_value'], test_X_std['average_ask_price'],\n",
    "                                     test_X_std['average_bid_price']))\n",
    "    test_ic = test_data[['factor','mid_price_move_1']].corr().iloc[0][1]\n",
    "    factor = test_data['factor'] * np.sign(test_ic)\n",
    "    factor_data = pd.DataFrame(factor,columns=['factor',])\n",
    "    factor_data['long_short'] = 0\n",
    "    factor_data.loc[factor_data['factor'] > factor_data['factor'].quantile(0.9), 'long_short'] = 1\n",
    "    factor_data.loc[factor_data['factor'] < factor_data['factor'].quantile(0.1), 'long_short'] = -1\n",
    "    long_short = factor_data['long_short']\n",
    "    returns = long_short * test_data['mid_price_move_1']\n",
    "    performance(returns,dict,ID = i+1,fees = 0)\n",
    "    train_ic = train_data[['factor','mid_price_move_1']].corr().iloc[0][1]\n",
    "    params_list = [i+1,round(train_ic,3),round(test_ic,3)] + list(dict[i+1].values())\n",
    "    cols = ['Fac_num','train_ic','test_ic','annual_return','annual_volatility','max_drawdown','calmar_ratio','sharpe_ratio','win_rate']\n",
    "    params_df = pd.DataFrame(np.array(params_list).reshape(1, 9), index=[1], columns=cols)\n",
    "    params = pd.concat([params,params_df],ignore_index=True)"
   ]
  },
  {
   "cell_type": "code",
   "execution_count": 53,
   "id": "d57cd3d8",
   "metadata": {
    "ExecuteTime": {
     "end_time": "2022-06-20T13:42:24.610227Z",
     "start_time": "2022-06-20T13:42:24.595154Z"
    }
   },
   "outputs": [
    {
     "data": {
      "text/html": [
       "<div>\n",
       "<style scoped>\n",
       "    .dataframe tbody tr th:only-of-type {\n",
       "        vertical-align: middle;\n",
       "    }\n",
       "\n",
       "    .dataframe tbody tr th {\n",
       "        vertical-align: top;\n",
       "    }\n",
       "\n",
       "    .dataframe thead th {\n",
       "        text-align: right;\n",
       "    }\n",
       "</style>\n",
       "<table border=\"1\" class=\"dataframe\">\n",
       "  <thead>\n",
       "    <tr style=\"text-align: right;\">\n",
       "      <th></th>\n",
       "      <th>Fac_num</th>\n",
       "      <th>train_ic</th>\n",
       "      <th>test_ic</th>\n",
       "      <th>annual_return</th>\n",
       "      <th>annual_volatility</th>\n",
       "      <th>max_drawdown</th>\n",
       "      <th>calmar_ratio</th>\n",
       "      <th>sharpe_ratio</th>\n",
       "      <th>win_rate</th>\n",
       "    </tr>\n",
       "  </thead>\n",
       "  <tbody>\n",
       "    <tr>\n",
       "      <th>0</th>\n",
       "      <td>1</td>\n",
       "      <td>-0.112</td>\n",
       "      <td>-0.013</td>\n",
       "      <td>0.004</td>\n",
       "      <td>0.245</td>\n",
       "      <td>-0.044</td>\n",
       "      <td>0.098</td>\n",
       "      <td>0.018</td>\n",
       "      <td>0.496</td>\n",
       "    </tr>\n",
       "    <tr>\n",
       "      <th>1</th>\n",
       "      <td>2</td>\n",
       "      <td>-0.104</td>\n",
       "      <td>-0.013</td>\n",
       "      <td>0.767</td>\n",
       "      <td>0.283</td>\n",
       "      <td>-0.048</td>\n",
       "      <td>15.878</td>\n",
       "      <td>2.709</td>\n",
       "      <td>0.496</td>\n",
       "    </tr>\n",
       "    <tr>\n",
       "      <th>2</th>\n",
       "      <td>3</td>\n",
       "      <td>-0.104</td>\n",
       "      <td>-0.013</td>\n",
       "      <td>0.767</td>\n",
       "      <td>0.283</td>\n",
       "      <td>-0.048</td>\n",
       "      <td>15.878</td>\n",
       "      <td>2.709</td>\n",
       "      <td>0.496</td>\n",
       "    </tr>\n",
       "    <tr>\n",
       "      <th>3</th>\n",
       "      <td>4</td>\n",
       "      <td>-0.104</td>\n",
       "      <td>-0.013</td>\n",
       "      <td>0.767</td>\n",
       "      <td>0.283</td>\n",
       "      <td>-0.048</td>\n",
       "      <td>15.878</td>\n",
       "      <td>2.709</td>\n",
       "      <td>0.496</td>\n",
       "    </tr>\n",
       "    <tr>\n",
       "      <th>4</th>\n",
       "      <td>5</td>\n",
       "      <td>-0.104</td>\n",
       "      <td>-0.013</td>\n",
       "      <td>0.767</td>\n",
       "      <td>0.283</td>\n",
       "      <td>-0.048</td>\n",
       "      <td>15.878</td>\n",
       "      <td>2.709</td>\n",
       "      <td>0.496</td>\n",
       "    </tr>\n",
       "    <tr>\n",
       "      <th>5</th>\n",
       "      <td>6</td>\n",
       "      <td>-0.104</td>\n",
       "      <td>-0.013</td>\n",
       "      <td>0.767</td>\n",
       "      <td>0.283</td>\n",
       "      <td>-0.048</td>\n",
       "      <td>15.878</td>\n",
       "      <td>2.709</td>\n",
       "      <td>0.496</td>\n",
       "    </tr>\n",
       "    <tr>\n",
       "      <th>6</th>\n",
       "      <td>7</td>\n",
       "      <td>-0.101</td>\n",
       "      <td>-0.003</td>\n",
       "      <td>-0.269</td>\n",
       "      <td>0.193</td>\n",
       "      <td>-0.045</td>\n",
       "      <td>5.953</td>\n",
       "      <td>-1.390</td>\n",
       "      <td>0.493</td>\n",
       "    </tr>\n",
       "    <tr>\n",
       "      <th>7</th>\n",
       "      <td>8</td>\n",
       "      <td>-0.094</td>\n",
       "      <td>-0.013</td>\n",
       "      <td>1.173</td>\n",
       "      <td>0.282</td>\n",
       "      <td>-0.044</td>\n",
       "      <td>26.828</td>\n",
       "      <td>4.163</td>\n",
       "      <td>0.501</td>\n",
       "    </tr>\n",
       "    <tr>\n",
       "      <th>8</th>\n",
       "      <td>9</td>\n",
       "      <td>-0.093</td>\n",
       "      <td>-0.013</td>\n",
       "      <td>0.449</td>\n",
       "      <td>0.262</td>\n",
       "      <td>-0.037</td>\n",
       "      <td>12.220</td>\n",
       "      <td>1.715</td>\n",
       "      <td>0.499</td>\n",
       "    </tr>\n",
       "    <tr>\n",
       "      <th>9</th>\n",
       "      <td>10</td>\n",
       "      <td>-0.093</td>\n",
       "      <td>-0.013</td>\n",
       "      <td>0.449</td>\n",
       "      <td>0.262</td>\n",
       "      <td>-0.037</td>\n",
       "      <td>12.220</td>\n",
       "      <td>1.715</td>\n",
       "      <td>0.499</td>\n",
       "    </tr>\n",
       "  </tbody>\n",
       "</table>\n",
       "</div>"
      ],
      "text/plain": [
       "  Fac_num train_ic test_ic annual_return annual_volatility max_drawdown  \\\n",
       "0       1   -0.112  -0.013         0.004             0.245       -0.044   \n",
       "1       2   -0.104  -0.013         0.767             0.283       -0.048   \n",
       "2       3   -0.104  -0.013         0.767             0.283       -0.048   \n",
       "3       4   -0.104  -0.013         0.767             0.283       -0.048   \n",
       "4       5   -0.104  -0.013         0.767             0.283       -0.048   \n",
       "5       6   -0.104  -0.013         0.767             0.283       -0.048   \n",
       "6       7   -0.101  -0.003        -0.269             0.193       -0.045   \n",
       "7       8   -0.094  -0.013         1.173             0.282       -0.044   \n",
       "8       9   -0.093  -0.013         0.449             0.262       -0.037   \n",
       "9      10   -0.093  -0.013         0.449             0.262       -0.037   \n",
       "\n",
       "  calmar_ratio sharpe_ratio win_rate  \n",
       "0        0.098        0.018    0.496  \n",
       "1       15.878        2.709    0.496  \n",
       "2       15.878        2.709    0.496  \n",
       "3       15.878        2.709    0.496  \n",
       "4       15.878        2.709    0.496  \n",
       "5       15.878        2.709    0.496  \n",
       "6        5.953       -1.390    0.493  \n",
       "7       26.828        4.163    0.501  \n",
       "8       12.220        1.715    0.499  \n",
       "9       12.220        1.715    0.499  "
      ]
     },
     "execution_count": 53,
     "metadata": {},
     "output_type": "execute_result"
    }
   ],
   "source": [
    "params"
   ]
  },
  {
   "cell_type": "code",
   "execution_count": 51,
   "id": "6fd8d753",
   "metadata": {
    "ExecuteTime": {
     "end_time": "2022-06-20T13:32:23.296079Z",
     "start_time": "2022-06-20T13:32:23.289795Z"
    }
   },
   "outputs": [
    {
     "data": {
      "text/plain": [
       "-1.0"
      ]
     },
     "execution_count": 51,
     "metadata": {},
     "output_type": "execute_result"
    }
   ],
   "source": [
    "a = -1.2\n",
    "np.sign(a)"
   ]
  },
  {
   "cell_type": "markdown",
   "id": "7b66eb3f",
   "metadata": {},
   "source": [
    "# 测试最好因子训练集IC表现"
   ]
  },
  {
   "cell_type": "code",
   "execution_count": 39,
   "id": "4378f14e",
   "metadata": {
    "ExecuteTime": {
     "end_time": "2022-06-20T12:05:23.233632Z",
     "start_time": "2022-06-20T12:05:23.135612Z"
    }
   },
   "outputs": [
    {
     "data": {
      "text/plain": [
       "-0.10329213613048979"
      ]
     },
     "execution_count": 39,
     "metadata": {},
     "output_type": "execute_result"
    }
   ],
   "source": [
    "func = toolbox.compile(hof_std[0])\n",
    "Yp = list(func(X_std['high'], X_std['low'], X_std['open'], X_std['last_price'], X_std['volume'], X_std['turnover'],\n",
    "               X_std['trade_count'],X_std['previous_close'],X_std['high_limit'], X_std['low_limit'], X_std['total_volume'],\n",
    "               X_std['total_value'], X_std['average_ask_price'],X_std['average_bid_price']))\n",
    "#ic = pd.DataFrame(Y.values)[0].corr(pd.DataFrame(Yp)[0])\n",
    "ic_mat = pd.DataFrame(Yp)\n",
    "ic_mat['Y'] = Y.values\n",
    "ic_mat.columns = ['Yp', 'Y']\n",
    "ic = ic_mat[['Yp','Y']].corr().iloc[0][1]\n",
    "ic"
   ]
  },
  {
   "cell_type": "markdown",
   "id": "63c473b7",
   "metadata": {},
   "source": [
    "# 测试最好因子测试集IC表现"
   ]
  },
  {
   "cell_type": "markdown",
   "id": "10f971ec",
   "metadata": {},
   "source": [
    "在测试集上表现最好的是因子9，IC为-0.13；训练集中最好的因子在测试集IC只有0.05"
   ]
  },
  {
   "cell_type": "code",
   "execution_count": 45,
   "id": "bf4c786d",
   "metadata": {
    "ExecuteTime": {
     "end_time": "2022-06-19T17:49:42.524480Z",
     "start_time": "2022-06-19T17:49:42.465860Z"
    }
   },
   "outputs": [
    {
     "data": {
      "text/plain": [
       "0.04837359987588867"
      ]
     },
     "execution_count": 45,
     "metadata": {},
     "output_type": "execute_result"
    }
   ],
   "source": [
    "func = toolbox.compile(hof_std[7])\n",
    "X = test_data[['open', 'high', 'low', 'last_price', 'volume', 'turnover',\n",
    "       'trade_count', 'previous_close', 'high_limit', 'low_limit',\n",
    "       'total_volume', 'total_value', 'average_ask_price', 'average_bid_price']]\n",
    "Y = test_data['mid_price_move_10']\n",
    "X_std = X.apply(lambda x: (x - np.mean(x)) / np.std(x))\n",
    "Yp = list(func(X_std['high'], X_std['low'], X_std['open'], X_std['last_price'], X_std['volume'], X_std['turnover'],\n",
    "               X_std['trade_count'],X_std['previous_close'],X_std['high_limit'], X_std['low_limit'], X_std['total_volume'],\n",
    "               X_std['total_value'], X_std['average_ask_price'],X_std['average_bid_price']))\n",
    "#ic = pd.DataFrame(Y.values)[0].corr(pd.DataFrame(Yp)[0])\n",
    "ic_mat = pd.DataFrame(Yp)\n",
    "ic_mat['Y'] = Y.values\n",
    "ic_mat.columns = ['Yp', 'Y']\n",
    "ic = ic_mat[['Yp','Y']].corr().iloc[0][1]\n",
    "ic"
   ]
  },
  {
   "cell_type": "markdown",
   "id": "b80e77ca",
   "metadata": {},
   "source": [
    "# 展示最好的迭代样本结果"
   ]
  },
  {
   "cell_type": "code",
   "execution_count": 40,
   "id": "c72be37d",
   "metadata": {
    "ExecuteTime": {
     "end_time": "2022-06-20T12:05:30.498960Z",
     "start_time": "2022-06-20T12:05:30.243260Z"
    }
   },
   "outputs": [
    {
     "data": {
      "image/png": "[encoded data removed]",
      "text/plain": [
       "<IPython.core.display.Image object>"
      ]
     },
     "execution_count": 40,
     "metadata": {},
     "output_type": "execute_result"
    }
   ],
   "source": [
    "stdbest0 = hof_std[0]\n",
    "rename_labels = {'and_': '&', 'or_': '|', 'not_': '~'}   # we want use symbol labels instead of words in the tree graph\n",
    "gep.export_expression_tree(stdbest0, rename_labels, 'data/bool_tree.png')\n",
    "# show the above image here for convenience\n",
    "from IPython.display import Image\n",
    "Image(filename='data/bool_tree.png')"
   ]
  },
  {
   "cell_type": "markdown",
   "id": "cfba2380",
   "metadata": {},
   "source": [
    "·观察公式的结果，量纲还是不太对应\n",
    "\n",
    "·如何筛选因子，怎样从量纲层面筛选因子（怎样确定一个因子是合理的）"
   ]
  },
  {
   "cell_type": "markdown",
   "id": "e2a30b08",
   "metadata": {},
   "source": [
    "# 因子统计分析"
   ]
  },
  {
   "cell_type": "code",
   "execution_count": 13,
   "id": "ee8ef08e",
   "metadata": {
    "ExecuteTime": {
     "end_time": "2022-06-17T08:41:15.682993Z",
     "start_time": "2022-06-17T08:41:12.665930Z"
    }
   },
   "outputs": [
    {
     "data": {
      "text/plain": [
       "count    513000.000000\n",
       "mean         -0.000928\n",
       "std           0.048098\n",
       "min          -0.090528\n",
       "25%          -0.028974\n",
       "50%           0.002948\n",
       "75%           0.024967\n",
       "max           0.091094\n",
       "dtype: float64"
      ]
     },
     "execution_count": 13,
     "metadata": {},
     "output_type": "execute_result"
    }
   ],
   "source": [
    "import seaborn as sns\n",
    "import matplotlib.pyplot as plt\n",
    "from scipy.stats.mstats import winsorize\n",
    "func = toolbox.compile(stdbest0)\n",
    "factor = list(func(X_std['high'],X_std['low'],X_std['open'],X_std['last_price'],X_std['volume'],X_std['turnover'],\n",
    "               X_std['trade_count'],X_std['previous_close'],X_std['high_limit'],X_std['low_limit'],X_std['total_volume'],\n",
    "               X_std['total_value'],X_std['average_ask_price'],X_std['average_bid_price']))\n",
    "factor_win = winsorize(factor, limits=[0.01,0.05])\n",
    "X['factor'] = factor_win\n",
    "X_std1 = X.apply(lambda x: (x - np.mean(x)) / np.std(x))\n",
    "pd.Series(factor_win).describe()"
   ]
  },
  {
   "cell_type": "code",
   "execution_count": 14,
   "id": "c258399c",
   "metadata": {
    "ExecuteTime": {
     "end_time": "2022-06-17T08:41:22.357841Z",
     "start_time": "2022-06-17T08:41:19.312109Z"
    }
   },
   "outputs": [
    {
     "data": {
      "text/plain": [
       "<AxesSubplot:xlabel='factor', ylabel='Density'>"
      ]
     },
     "execution_count": 14,
     "metadata": {},
     "output_type": "execute_result"
    },
    {
     "data": {
      "image/png": "[encoded data removed]",
      "text/plain": [
       "<Figure size 432x288 with 1 Axes>"
      ]
     },
     "metadata": {
      "needs_background": "light"
     },
     "output_type": "display_data"
    }
   ],
   "source": [
    "sns.distplot(pd.Series(X_std1['factor']))"
   ]
  },
  {
   "cell_type": "code",
   "execution_count": 15,
   "id": "919e4600",
   "metadata": {
    "ExecuteTime": {
     "end_time": "2022-06-17T08:50:17.426833Z",
     "start_time": "2022-06-17T08:49:08.529504Z"
    }
   },
   "outputs": [
    {
     "data": {
      "image/png": "[encoded data removed]",
      "text/plain": [
       "<Figure size 432x288 with 1 Axes>"
      ]
     },
     "metadata": {
      "needs_background": "light"
     },
     "output_type": "display_data"
    }
   ],
   "source": [
    "for stdbest in hof_std:\n",
    "    func = toolbox.compile(stdbest)\n",
    "    factor = list(func(X_std['high'],X_std['low'],X_std['open'],X_std['last_price'],X_std['volume'],X_std['turnover'],\n",
    "                   X_std['trade_count'],X_std['previous_close'],X_std['high_limit'],X_std['low_limit'],X_std['total_volume'],\n",
    "                   X_std['total_value'],X_std['average_ask_price'],X_std['average_bid_price']))\n",
    "    factor_win = winsorize(factor, limits=[0.01,0.05])\n",
    "    X['factor'] = factor_win\n",
    "    X_std1 = X.apply(lambda x: (x - np.mean(x)) / np.std(x))\n",
    "    sns.distplot(pd.Series(X_std1['factor']))"
   ]
  },
  {
   "cell_type": "markdown",
   "id": "ef28e78b",
   "metadata": {},
   "source": [
    "# 从标准化因子后的结果来看，中间和两边分布比较多，如何衡量因子好坏！"
   ]
  },
  {
   "cell_type": "markdown",
   "id": "95a775ec",
   "metadata": {},
   "source": [
    "# 下一步工作推进"
   ]
  },
  {
   "cell_type": "markdown",
   "id": "d0194110",
   "metadata": {},
   "source": [
    "1.寻找因子统计的方法筛选因子\n",
    "\n",
    "2.添加函数部分，同时想办法加速函数运行，提升效率"
   ]
  },
  {
   "cell_type": "markdown",
   "id": "5d33c910",
   "metadata": {},
   "source": [
    "从树产生因子公式，写时序回测函数\n",
    "因子公式+回测指标+输出表格，因子分布输出图片\n",
    "时序性交叉验证（rolling CV）\n",
    "去掉’total_value'再计算一次"
   ]
  }
 ],
 "metadata": {
  "kernelspec": {
   "display_name": "Python 3",
   "language": "python",
   "name": "python3"
  },
  "language_info": {
   "codemirror_mode": {
    "name": "ipython",
    "version": 3
   },
   "file_extension": ".py",
   "mimetype": "text/x-python",
   "name": "python",
   "nbconvert_exporter": "python",
   "pygments_lexer": "ipython3",
   "version": "3.8.8"
  },
  "varInspector": {
   "cols": {
    "lenName": 16,
    "lenType": 16,
    "lenVar": 40
   },
   "kernels_config": {
    "python": {
     "delete_cmd_postfix": "",
     "delete_cmd_prefix": "del ",
     "library": "var_list.py",
     "varRefreshCmd": "print(var_dic_list())"
    },
    "r": {
     "delete_cmd_postfix": ") ",
     "delete_cmd_prefix": "rm(",
     "library": "var_list.r",
     "varRefreshCmd": "cat(var_dic_list()) "
    }
   },
   "types_to_exclude": [
    "module",
    "function",
    "builtin_function_or_method",
    "instance",
    "_Feature"
   ],
   "window_display": false
  }
 },
 "nbformat": 4,
 "nbformat_minor": 5
}